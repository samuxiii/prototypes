{
  "nbformat": 4,
  "nbformat_minor": 0,
  "metadata": {
    "colab": {
      "name": "pong.ipynb",
      "version": "0.3.2",
      "provenance": [],
      "collapsed_sections": []
    },
    "kernelspec": {
      "name": "python3",
      "display_name": "Python 3"
    },
    "accelerator": "GPU"
  },
  "cells": [
    {
      "metadata": {
        "id": "uASDXzVGNu7V",
        "colab_type": "code",
        "outputId": "2f27e069-c7b6-4378-dbfa-d2007a1c856c",
        "colab": {
          "base_uri": "https://localhost:8080/",
          "height": 269
        }
      },
      "cell_type": "code",
      "source": [
        "!pip install -q keras\n",
        "!pip install gym\n",
        "!pip install “gym[atari]\""
      ],
      "execution_count": 2,
      "outputs": [
        {
          "output_type": "stream",
          "text": [
            "Requirement already satisfied: gym in /usr/local/lib/python3.6/dist-packages (0.10.11)\n",
            "Requirement already satisfied: scipy in /usr/local/lib/python3.6/dist-packages (from gym) (1.1.0)\n",
            "Requirement already satisfied: numpy>=1.10.4 in /usr/local/lib/python3.6/dist-packages (from gym) (1.14.6)\n",
            "Requirement already satisfied: requests>=2.0 in /usr/local/lib/python3.6/dist-packages (from gym) (2.18.4)\n",
            "Requirement already satisfied: six in /usr/local/lib/python3.6/dist-packages (from gym) (1.11.0)\n",
            "Requirement already satisfied: pyglet>=1.2.0 in /usr/local/lib/python3.6/dist-packages (from gym) (1.3.2)\n",
            "Requirement already satisfied: idna<2.7,>=2.5 in /usr/local/lib/python3.6/dist-packages (from requests>=2.0->gym) (2.6)\n",
            "Requirement already satisfied: chardet<3.1.0,>=3.0.2 in /usr/local/lib/python3.6/dist-packages (from requests>=2.0->gym) (3.0.4)\n",
            "Requirement already satisfied: certifi>=2017.4.17 in /usr/local/lib/python3.6/dist-packages (from requests>=2.0->gym) (2018.11.29)\n",
            "Requirement already satisfied: urllib3<1.23,>=1.21.1 in /usr/local/lib/python3.6/dist-packages (from requests>=2.0->gym) (1.22)\n",
            "Requirement already satisfied: future in /usr/local/lib/python3.6/dist-packages (from pyglet>=1.2.0->gym) (0.16.0)\n",
            "/bin/bash: -c: line 0: unexpected EOF while looking for matching `\"'\n",
            "/bin/bash: -c: line 1: syntax error: unexpected end of file\n"
          ],
          "name": "stdout"
        }
      ]
    },
    {
      "metadata": {
        "id": "966byywKZ0Br",
        "colab_type": "code",
        "outputId": "487a8526-0313-42af-eeca-639e4e986188",
        "colab": {
          "base_uri": "https://localhost:8080/",
          "height": 34
        }
      },
      "cell_type": "code",
      "source": [
        "import tensorflow as tf\n",
        "device_name = tf.test.gpu_device_name()\n",
        "if device_name != '/device:GPU:0':\n",
        "  raise SystemError('GPU device not found')\n",
        "print('Found GPU at: {}'.format(device_name))"
      ],
      "execution_count": 3,
      "outputs": [
        {
          "output_type": "stream",
          "text": [
            "Found GPU at: /device:GPU:0\n"
          ],
          "name": "stdout"
        }
      ]
    },
    {
      "metadata": {
        "id": "LkvaAmVKaWDl",
        "colab_type": "code",
        "outputId": "72e7b020-2882-41cc-c7a6-32a2efa18cf5",
        "colab": {
          "base_uri": "https://localhost:8080/",
          "height": 51
        }
      },
      "cell_type": "code",
      "source": [
        "from keras import backend as K\n",
        "K.tensorflow_backend._get_available_gpus()"
      ],
      "execution_count": 4,
      "outputs": [
        {
          "output_type": "stream",
          "text": [
            "Using TensorFlow backend.\n"
          ],
          "name": "stderr"
        },
        {
          "output_type": "execute_result",
          "data": {
            "text/plain": [
              "['/job:localhost/replica:0/task:0/device:GPU:0']"
            ]
          },
          "metadata": {
            "tags": []
          },
          "execution_count": 4
        }
      ]
    },
    {
      "metadata": {
        "id": "TaW9fBcvxE0I",
        "colab_type": "code",
        "colab": {}
      },
      "cell_type": "code",
      "source": [
        "import random\n",
        "import numpy as np\n",
        "from keras import backend as K\n",
        "from keras.layers import Dense, Conv2D, Flatten\n",
        "from keras.models import Sequential\n",
        "from keras.optimizers import Adam\n",
        "\n",
        "class Agent:\n",
        "\n",
        "    def __init__(self):\n",
        "        self.memory = []\n",
        "        self.epsilon = 1.0  # exploration rate\n",
        "        self.model = self.__model()\n",
        "\n",
        "    def __model(self):\n",
        "        model = Sequential()\n",
        "        model.add(Conv2D(16, kernel_size=8, strides=4, activation='relu', input_shape=(80, 80, 3)))\n",
        "        model.add(Conv2D(32, kernel_size=4, strides=2, activation='relu'))\n",
        "        model.add(Flatten())\n",
        "        model.add(Dense(256, activation='relu'))\n",
        "        model.add(Dense(2, activation='sigmoid'))\n",
        "        model.compile(loss='mean_squared_error', optimizer='adam', metrics=['accuracy'])\n",
        "        return model\n",
        "\n",
        "    def preprocess(self, I):\n",
        "        # prepro 210x160x3 uint8 frame into 6400 (80x80) 1D float vector\n",
        "        I = I[35:195]  # crop\n",
        "        I = I[::2, ::2, :]  # downsample by factor of 2\n",
        "        I[I == 144] = 0  # erase background (background type 1)\n",
        "        I[I == 109] = 0  # erase background (background type 2)\n",
        "        I[I != 0] = 1  # everything else (paddles, ball) just set to 1\n",
        "        return I  # shape:(80, 80, 3)\n",
        "\n",
        "    def discount_rewards(self, r, gamma=0.99):\n",
        "        \"\"\" take 1D float array of rewards and compute discounted reward \"\"\"\n",
        "        discounted_r = np.zeros_like(r)\n",
        "        running_add = 0\n",
        "        for t in reversed(range(0, len(r))):\n",
        "            if r[t] != 0: running_add = 0 # reset the sum, since this was a game boundary (pong specific!)\n",
        "            running_add = running_add * gamma + r[t]\n",
        "            discounted_r[t] = running_add\n",
        "        #normalize\n",
        "        discounted_r -= np.mean(discounted_r)\n",
        "        discounted_r /= np.std(discounted_r)\n",
        "        return discounted_r\n",
        "\n",
        "    def remember(self, state, action, reward, next_state, done):\n",
        "        # states must be preprocessed\n",
        "        if (state.shape[0] != 80 and state.shape[1] != 80):\n",
        "            state = self.preprocess(state)\n",
        "        if (next_state.shape[0] != 80 and next_state.shape[1] != 80):\n",
        "            next_state = self.preprocess(next_state)\n",
        "\n",
        "        # store in memory the different states, actions, rewards...\n",
        "        self.memory.append((state, action, reward, next_state, done))\n",
        "\n",
        "    def replay(self):\n",
        "        # fit model from memory\n",
        "        gamma = 0.5  # importance of the next reward\n",
        "        # max_batch_size = 512\n",
        "\n",
        "        # take care the memory could be big, so using minibatch\n",
        "        # minibatch = random.sample(self.memory, min(max_batch_size, len(self.memory)))\n",
        "\n",
        "        list_x_batch, list_y_batch, list_r_batch = [], [], []\n",
        "        _,_,list_r_batch,_,_ = zip(*self.memory)\n",
        "\n",
        "        print(\"steps:{}\".format(len(self.memory)))\n",
        "        for state, action, reward, next_state, done in self.memory:\n",
        "\n",
        "            state = np.expand_dims(state, axis=0)\n",
        "            #target = self.model.predict(state)[0]\n",
        "            \n",
        "            target = np.zeros([2])  #????\n",
        "            target[action] = 1\n",
        "\n",
        "            #if not done:\n",
        "            #    next_state = np.expand_dims(next_state, axis=0)\n",
        "            #    future_action_values = self.model.predict(next_state)[0]\n",
        "            #    #following the formula of action-value expectation\n",
        "            #    target[action] = reward + gamma * np.amax(future_action_values)\n",
        "\n",
        "            ##customize the obtained reward with the calculated\n",
        "            #print(\"action {} ({}) from {} to {}\".format(action, r_batch[step], t, target))\n",
        "\n",
        "            # append\n",
        "            list_x_batch.append(state)\n",
        "            list_y_batch.append(target)\n",
        "                \n",
        "        # clean\n",
        "        self.memory = []\n",
        "\n",
        "        # train the model\n",
        "        x_batch = np.vstack(list_x_batch)\n",
        "        y_batch = np.vstack(list_y_batch)\n",
        "        r_batch = self.discount_rewards(list_r_batch)\n",
        "        #yr_batch = r_batch.reshape(-1,1) * y_batch\n",
        "\n",
        "        self.model.fit(x_batch, y_batch, sample_weight=r_batch, verbose=1)\n",
        "        #self.model.fit(x_batch, yr_batch, verbose=1)\n",
        "\n",
        "    def act(self, state):\n",
        "        # preprocess the sample\n",
        "        state = self.preprocess(state)\n",
        "\n",
        "        if self.epsilon > np.random.rand():\n",
        "            return random.randint(0, 1)\n",
        "\n",
        "        # predict the action to do\n",
        "        state = np.expand_dims(state, axis=0)\n",
        "        action_values = self.model.predict(state)\n",
        "        print(\"Predictions:{}\".format(action_values))\n",
        "\n",
        "        return np.argmax(action_values)"
      ],
      "execution_count": 0,
      "outputs": []
    },
    {
      "metadata": {
        "id": "DFceIcedNW21",
        "colab_type": "code",
        "outputId": "1c69966e-a270-4259-93eb-af24539d09ae",
        "colab": {
          "base_uri": "https://localhost:8080/",
          "height": 2649
        }
      },
      "cell_type": "code",
      "source": [
        "import os\n",
        "import gym\n",
        "import random\n",
        "import numpy as np\n",
        "#from Agent import Agent\n",
        "from time import sleep\n",
        "\n",
        "\n",
        "# code for the two only actions in Pong\n",
        "UP_ACTION = 2\n",
        "DOWN_ACTION = 3\n",
        "\n",
        "# initializing our environment\n",
        "env = gym.make(\"Pong-v0\")\n",
        "\n",
        "# beginning of an episode\n",
        "observation = env.reset()\n",
        "\n",
        "# model weights\n",
        "h5file = \"weights.h5\"\n",
        "\n",
        "# agent\n",
        "agent = Agent()\n",
        "\n",
        "# get model\n",
        "if os.path.exists(h5file):\n",
        "    agent.model.load_weights(h5file)\n",
        "\n",
        "# training conf\n",
        "training = True\n",
        "# x_train, y_train, rewards = [], [], []\n",
        "# reward_sum = 0\n",
        "\n",
        "episode = 0\n",
        "# main loop\n",
        "while episode < 1000: \n",
        "    # predict action\n",
        "    action = agent.act(observation)\n",
        "    movement = UP_ACTION if action == 1 else DOWN_ACTION\n",
        "\n",
        "    # do one step\n",
        "    next_observation, reward, done, info = env.step(movement)\n",
        "\n",
        "    # save the current observation\n",
        "    agent.remember(observation, action, reward, next_observation, done)\n",
        "\n",
        "    # update state\n",
        "    observation = next_observation\n",
        "\n",
        "    if reward != 0:\n",
        "        if reward == 1:\n",
        "            print(\"Win!!\")\n",
        "        else:\n",
        "            print(\"Lose..\")\n",
        "\n",
        "        if training:\n",
        "            agent.replay()\n",
        "    \n",
        "    if done:\n",
        "        print(\"epsilon:{}\".format(agent.epsilon))\n",
        "        # decrease exploration rate\n",
        "        if agent.epsilon > 0.01:\n",
        "            agent.epsilon *= 0.97\n",
        "            \n",
        "        observation = env.reset()\n",
        "        episode += 1\n",
        "        agent.model.save_weights(h5file)\n"
      ],
      "execution_count": 38,
      "outputs": [
        {
          "output_type": "stream",
          "text": [
            "Lose..\n",
            "steps:170\n",
            "Epoch 1/1\n",
            "170/170 [==============================] - 1s 8ms/step - loss: 2.3826e-04 - acc: 0.5353\n",
            "Lose..\n",
            "steps:45\n",
            "Epoch 1/1\n",
            "45/45 [==============================] - 0s 514us/step - loss: 1.3061e-04 - acc: 0.4667\n",
            "Lose..\n",
            "steps:126\n",
            "Epoch 1/1\n",
            "126/126 [==============================] - 0s 271us/step - loss: -3.5055e-06 - acc: 0.5159\n",
            "Lose..\n",
            "steps:47\n",
            "Epoch 1/1\n",
            "47/47 [==============================] - 0s 359us/step - loss: 8.7663e-08 - acc: 0.4894\n",
            "Lose..\n",
            "steps:46\n",
            "Epoch 1/1\n",
            "46/46 [==============================] - 0s 400us/step - loss: -2.7859e-08 - acc: 0.4565\n",
            "Lose..\n",
            "steps:46\n",
            "Epoch 1/1\n",
            "46/46 [==============================] - 0s 455us/step - loss: -3.2394e-09 - acc: 0.5435\n",
            "Lose..\n",
            "steps:48\n",
            "Epoch 1/1\n",
            "48/48 [==============================] - 0s 406us/step - loss: 1.2418e-09 - acc: 0.5625\n",
            "Lose..\n",
            "steps:46\n",
            "Epoch 1/1\n",
            "46/46 [==============================] - 0s 431us/step - loss: 0.0000e+00 - acc: 0.5217\n",
            "Lose..\n",
            "steps:45\n",
            "Epoch 1/1\n",
            "45/45 [==============================] - 0s 437us/step - loss: 1.3245e-09 - acc: 0.4222\n",
            "Lose..\n",
            "steps:44\n",
            "Epoch 1/1\n",
            "44/44 [==============================] - 0s 431us/step - loss: -6.0959e-09 - acc: 0.5227\n",
            "Lose..\n",
            "steps:126\n",
            "Epoch 1/1\n",
            "126/126 [==============================] - 0s 297us/step - loss: -2.6018e-09 - acc: 0.5873\n",
            "Lose..\n",
            "steps:49\n",
            "Epoch 1/1\n",
            "49/49 [==============================] - 0s 445us/step - loss: 1.5205e-10 - acc: 0.6327\n",
            "Lose..\n",
            "steps:47\n",
            "Epoch 1/1\n",
            "47/47 [==============================] - 0s 401us/step - loss: -3.1506e-09 - acc: 0.4894\n",
            "Lose..\n",
            "steps:44\n",
            "Epoch 1/1\n",
            "44/44 [==============================] - 0s 424us/step - loss: 1.6933e-10 - acc: 0.5227\n",
            "Lose..\n",
            "steps:131\n",
            "Epoch 1/1\n",
            "131/131 [==============================] - 0s 402us/step - loss: -3.6400e-09 - acc: 0.5191\n",
            "Lose..\n",
            "steps:130\n",
            "Epoch 1/1\n",
            "130/130 [==============================] - 0s 316us/step - loss: 4.1838e-09 - acc: 0.6000\n",
            "Lose..\n",
            "steps:48\n",
            "Epoch 1/1\n",
            "48/48 [==============================] - 0s 427us/step - loss: -4.9671e-09 - acc: 0.5000\n",
            "Lose..\n",
            "steps:47\n",
            "Epoch 1/1\n",
            "47/47 [==============================] - 0s 444us/step - loss: 5.9942e-10 - acc: 0.4468\n",
            "Lose..\n",
            "steps:120\n",
            "Epoch 1/1\n",
            "120/120 [==============================] - 0s 282us/step - loss: -1.1797e-09 - acc: 0.4750\n",
            "Lose..\n",
            "steps:48\n",
            "Epoch 1/1\n",
            "48/48 [==============================] - 0s 405us/step - loss: -3.7253e-09 - acc: 0.6250\n",
            "Lose..\n",
            "steps:136\n",
            "Epoch 1/1\n",
            "136/136 [==============================] - 0s 297us/step - loss: 0.0000e+00 - acc: 0.4338\n",
            "epsilon:1.0\n"
          ],
          "name": "stdout"
        },
        {
          "output_type": "error",
          "ename": "KeyboardInterrupt",
          "evalue": "ignored",
          "traceback": [
            "\u001b[0;31m---------------------------------------------------------------------------\u001b[0m",
            "\u001b[0;31mKeyboardInterrupt\u001b[0m                         Traceback (most recent call last)",
            "\u001b[0;32m<ipython-input-38-6583e13ca1e1>\u001b[0m in \u001b[0;36m<module>\u001b[0;34m()\u001b[0m\n\u001b[1;32m     36\u001b[0m \u001b[0;32mwhile\u001b[0m \u001b[0mepisode\u001b[0m \u001b[0;34m<\u001b[0m \u001b[0;36m1000\u001b[0m\u001b[0;34m:\u001b[0m\u001b[0;34m\u001b[0m\u001b[0;34m\u001b[0m\u001b[0m\n\u001b[1;32m     37\u001b[0m     \u001b[0;31m# predict action\u001b[0m\u001b[0;34m\u001b[0m\u001b[0;34m\u001b[0m\u001b[0;34m\u001b[0m\u001b[0m\n\u001b[0;32m---> 38\u001b[0;31m     \u001b[0maction\u001b[0m \u001b[0;34m=\u001b[0m \u001b[0magent\u001b[0m\u001b[0;34m.\u001b[0m\u001b[0mact\u001b[0m\u001b[0;34m(\u001b[0m\u001b[0mobservation\u001b[0m\u001b[0;34m)\u001b[0m\u001b[0;34m\u001b[0m\u001b[0;34m\u001b[0m\u001b[0m\n\u001b[0m\u001b[1;32m     39\u001b[0m     \u001b[0mmovement\u001b[0m \u001b[0;34m=\u001b[0m \u001b[0mUP_ACTION\u001b[0m \u001b[0;32mif\u001b[0m \u001b[0maction\u001b[0m \u001b[0;34m==\u001b[0m \u001b[0;36m1\u001b[0m \u001b[0;32melse\u001b[0m \u001b[0mDOWN_ACTION\u001b[0m\u001b[0;34m\u001b[0m\u001b[0;34m\u001b[0m\u001b[0m\n\u001b[1;32m     40\u001b[0m \u001b[0;34m\u001b[0m\u001b[0m\n",
            "\u001b[0;32m<ipython-input-35-94b3a52d7c1e>\u001b[0m in \u001b[0;36mact\u001b[0;34m(self, state)\u001b[0m\n\u001b[1;32m    109\u001b[0m         \u001b[0;31m# predict the action to do\u001b[0m\u001b[0;34m\u001b[0m\u001b[0;34m\u001b[0m\u001b[0;34m\u001b[0m\u001b[0m\n\u001b[1;32m    110\u001b[0m         \u001b[0mstate\u001b[0m \u001b[0;34m=\u001b[0m \u001b[0mnp\u001b[0m\u001b[0;34m.\u001b[0m\u001b[0mexpand_dims\u001b[0m\u001b[0;34m(\u001b[0m\u001b[0mstate\u001b[0m\u001b[0;34m,\u001b[0m \u001b[0maxis\u001b[0m\u001b[0;34m=\u001b[0m\u001b[0;36m0\u001b[0m\u001b[0;34m)\u001b[0m\u001b[0;34m\u001b[0m\u001b[0;34m\u001b[0m\u001b[0m\n\u001b[0;32m--> 111\u001b[0;31m         \u001b[0maction_values\u001b[0m \u001b[0;34m=\u001b[0m \u001b[0mself\u001b[0m\u001b[0;34m.\u001b[0m\u001b[0mmodel\u001b[0m\u001b[0;34m.\u001b[0m\u001b[0mpredict\u001b[0m\u001b[0;34m(\u001b[0m\u001b[0mstate\u001b[0m\u001b[0;34m)\u001b[0m\u001b[0;34m\u001b[0m\u001b[0;34m\u001b[0m\u001b[0m\n\u001b[0m\u001b[1;32m    112\u001b[0m         \u001b[0mprint\u001b[0m\u001b[0;34m(\u001b[0m\u001b[0;34m\"Predictions:{}\"\u001b[0m\u001b[0;34m.\u001b[0m\u001b[0mformat\u001b[0m\u001b[0;34m(\u001b[0m\u001b[0maction_values\u001b[0m\u001b[0;34m)\u001b[0m\u001b[0;34m)\u001b[0m\u001b[0;34m\u001b[0m\u001b[0;34m\u001b[0m\u001b[0m\n\u001b[1;32m    113\u001b[0m \u001b[0;34m\u001b[0m\u001b[0m\n",
            "\u001b[0;32m/usr/local/lib/python3.6/dist-packages/keras/engine/training.py\u001b[0m in \u001b[0;36mpredict\u001b[0;34m(self, x, batch_size, verbose, steps)\u001b[0m\n\u001b[1;32m   1167\u001b[0m                                             \u001b[0mbatch_size\u001b[0m\u001b[0;34m=\u001b[0m\u001b[0mbatch_size\u001b[0m\u001b[0;34m,\u001b[0m\u001b[0;34m\u001b[0m\u001b[0;34m\u001b[0m\u001b[0m\n\u001b[1;32m   1168\u001b[0m                                             \u001b[0mverbose\u001b[0m\u001b[0;34m=\u001b[0m\u001b[0mverbose\u001b[0m\u001b[0;34m,\u001b[0m\u001b[0;34m\u001b[0m\u001b[0;34m\u001b[0m\u001b[0m\n\u001b[0;32m-> 1169\u001b[0;31m                                             steps=steps)\n\u001b[0m\u001b[1;32m   1170\u001b[0m \u001b[0;34m\u001b[0m\u001b[0m\n\u001b[1;32m   1171\u001b[0m     def train_on_batch(self, x, y,\n",
            "\u001b[0;32m/usr/local/lib/python3.6/dist-packages/keras/engine/training_arrays.py\u001b[0m in \u001b[0;36mpredict_loop\u001b[0;34m(model, f, ins, batch_size, verbose, steps)\u001b[0m\n\u001b[1;32m    292\u001b[0m                 \u001b[0mins_batch\u001b[0m\u001b[0;34m[\u001b[0m\u001b[0mi\u001b[0m\u001b[0;34m]\u001b[0m \u001b[0;34m=\u001b[0m \u001b[0mins_batch\u001b[0m\u001b[0;34m[\u001b[0m\u001b[0mi\u001b[0m\u001b[0;34m]\u001b[0m\u001b[0;34m.\u001b[0m\u001b[0mtoarray\u001b[0m\u001b[0;34m(\u001b[0m\u001b[0;34m)\u001b[0m\u001b[0;34m\u001b[0m\u001b[0;34m\u001b[0m\u001b[0m\n\u001b[1;32m    293\u001b[0m \u001b[0;34m\u001b[0m\u001b[0m\n\u001b[0;32m--> 294\u001b[0;31m             \u001b[0mbatch_outs\u001b[0m \u001b[0;34m=\u001b[0m \u001b[0mf\u001b[0m\u001b[0;34m(\u001b[0m\u001b[0mins_batch\u001b[0m\u001b[0;34m)\u001b[0m\u001b[0;34m\u001b[0m\u001b[0;34m\u001b[0m\u001b[0m\n\u001b[0m\u001b[1;32m    295\u001b[0m             \u001b[0mbatch_outs\u001b[0m \u001b[0;34m=\u001b[0m \u001b[0mto_list\u001b[0m\u001b[0;34m(\u001b[0m\u001b[0mbatch_outs\u001b[0m\u001b[0;34m)\u001b[0m\u001b[0;34m\u001b[0m\u001b[0;34m\u001b[0m\u001b[0m\n\u001b[1;32m    296\u001b[0m             \u001b[0;32mif\u001b[0m \u001b[0mbatch_index\u001b[0m \u001b[0;34m==\u001b[0m \u001b[0;36m0\u001b[0m\u001b[0;34m:\u001b[0m\u001b[0;34m\u001b[0m\u001b[0;34m\u001b[0m\u001b[0m\n",
            "\u001b[0;32m/usr/local/lib/python3.6/dist-packages/keras/backend/tensorflow_backend.py\u001b[0m in \u001b[0;36m__call__\u001b[0;34m(self, inputs)\u001b[0m\n\u001b[1;32m   2713\u001b[0m                 \u001b[0;32mreturn\u001b[0m \u001b[0mself\u001b[0m\u001b[0;34m.\u001b[0m\u001b[0m_legacy_call\u001b[0m\u001b[0;34m(\u001b[0m\u001b[0minputs\u001b[0m\u001b[0;34m)\u001b[0m\u001b[0;34m\u001b[0m\u001b[0;34m\u001b[0m\u001b[0m\n\u001b[1;32m   2714\u001b[0m \u001b[0;34m\u001b[0m\u001b[0m\n\u001b[0;32m-> 2715\u001b[0;31m             \u001b[0;32mreturn\u001b[0m \u001b[0mself\u001b[0m\u001b[0;34m.\u001b[0m\u001b[0m_call\u001b[0m\u001b[0;34m(\u001b[0m\u001b[0minputs\u001b[0m\u001b[0;34m)\u001b[0m\u001b[0;34m\u001b[0m\u001b[0;34m\u001b[0m\u001b[0m\n\u001b[0m\u001b[1;32m   2716\u001b[0m         \u001b[0;32melse\u001b[0m\u001b[0;34m:\u001b[0m\u001b[0;34m\u001b[0m\u001b[0;34m\u001b[0m\u001b[0m\n\u001b[1;32m   2717\u001b[0m             \u001b[0;32mif\u001b[0m \u001b[0mpy_any\u001b[0m\u001b[0;34m(\u001b[0m\u001b[0mis_tensor\u001b[0m\u001b[0;34m(\u001b[0m\u001b[0mx\u001b[0m\u001b[0;34m)\u001b[0m \u001b[0;32mfor\u001b[0m \u001b[0mx\u001b[0m \u001b[0;32min\u001b[0m \u001b[0minputs\u001b[0m\u001b[0;34m)\u001b[0m\u001b[0;34m:\u001b[0m\u001b[0;34m\u001b[0m\u001b[0;34m\u001b[0m\u001b[0m\n",
            "\u001b[0;32m/usr/local/lib/python3.6/dist-packages/keras/backend/tensorflow_backend.py\u001b[0m in \u001b[0;36m_call\u001b[0;34m(self, inputs)\u001b[0m\n\u001b[1;32m   2669\u001b[0m                                 \u001b[0mfeed_symbols\u001b[0m\u001b[0;34m,\u001b[0m\u001b[0;34m\u001b[0m\u001b[0;34m\u001b[0m\u001b[0m\n\u001b[1;32m   2670\u001b[0m                                 \u001b[0msymbol_vals\u001b[0m\u001b[0;34m,\u001b[0m\u001b[0;34m\u001b[0m\u001b[0;34m\u001b[0m\u001b[0m\n\u001b[0;32m-> 2671\u001b[0;31m                                 session)\n\u001b[0m\u001b[1;32m   2672\u001b[0m         \u001b[0;32mif\u001b[0m \u001b[0mself\u001b[0m\u001b[0;34m.\u001b[0m\u001b[0mrun_metadata\u001b[0m\u001b[0;34m:\u001b[0m\u001b[0;34m\u001b[0m\u001b[0;34m\u001b[0m\u001b[0m\n\u001b[1;32m   2673\u001b[0m             \u001b[0mfetched\u001b[0m \u001b[0;34m=\u001b[0m \u001b[0mself\u001b[0m\u001b[0;34m.\u001b[0m\u001b[0m_callable_fn\u001b[0m\u001b[0;34m(\u001b[0m\u001b[0;34m*\u001b[0m\u001b[0marray_vals\u001b[0m\u001b[0;34m,\u001b[0m \u001b[0mrun_metadata\u001b[0m\u001b[0;34m=\u001b[0m\u001b[0mself\u001b[0m\u001b[0;34m.\u001b[0m\u001b[0mrun_metadata\u001b[0m\u001b[0;34m)\u001b[0m\u001b[0;34m\u001b[0m\u001b[0;34m\u001b[0m\u001b[0m\n",
            "\u001b[0;32m/usr/local/lib/python3.6/dist-packages/keras/backend/tensorflow_backend.py\u001b[0m in \u001b[0;36m_make_callable\u001b[0;34m(self, feed_arrays, feed_symbols, symbol_vals, session)\u001b[0m\n\u001b[1;32m   2621\u001b[0m             \u001b[0mcallable_opts\u001b[0m\u001b[0;34m.\u001b[0m\u001b[0mrun_options\u001b[0m\u001b[0;34m.\u001b[0m\u001b[0mCopyFrom\u001b[0m\u001b[0;34m(\u001b[0m\u001b[0mself\u001b[0m\u001b[0;34m.\u001b[0m\u001b[0mrun_options\u001b[0m\u001b[0;34m)\u001b[0m\u001b[0;34m\u001b[0m\u001b[0;34m\u001b[0m\u001b[0m\n\u001b[1;32m   2622\u001b[0m         \u001b[0;31m# Create callable.\u001b[0m\u001b[0;34m\u001b[0m\u001b[0;34m\u001b[0m\u001b[0;34m\u001b[0m\u001b[0m\n\u001b[0;32m-> 2623\u001b[0;31m         \u001b[0mcallable_fn\u001b[0m \u001b[0;34m=\u001b[0m \u001b[0msession\u001b[0m\u001b[0;34m.\u001b[0m\u001b[0m_make_callable_from_options\u001b[0m\u001b[0;34m(\u001b[0m\u001b[0mcallable_opts\u001b[0m\u001b[0;34m)\u001b[0m\u001b[0;34m\u001b[0m\u001b[0;34m\u001b[0m\u001b[0m\n\u001b[0m\u001b[1;32m   2624\u001b[0m         \u001b[0;31m# Cache parameters corresponding to the generated callable, so that\u001b[0m\u001b[0;34m\u001b[0m\u001b[0;34m\u001b[0m\u001b[0;34m\u001b[0m\u001b[0m\n\u001b[1;32m   2625\u001b[0m         \u001b[0;31m# we can detect future mismatches and refresh the callable.\u001b[0m\u001b[0;34m\u001b[0m\u001b[0;34m\u001b[0m\u001b[0;34m\u001b[0m\u001b[0m\n",
            "\u001b[0;32m/usr/local/lib/python3.6/dist-packages/tensorflow/python/client/session.py\u001b[0m in \u001b[0;36m_make_callable_from_options\u001b[0;34m(self, callable_options)\u001b[0m\n\u001b[1;32m   1469\u001b[0m     \"\"\"\n\u001b[1;32m   1470\u001b[0m     \u001b[0mself\u001b[0m\u001b[0;34m.\u001b[0m\u001b[0m_extend_graph\u001b[0m\u001b[0;34m(\u001b[0m\u001b[0;34m)\u001b[0m\u001b[0;34m\u001b[0m\u001b[0;34m\u001b[0m\u001b[0m\n\u001b[0;32m-> 1471\u001b[0;31m     \u001b[0;32mreturn\u001b[0m \u001b[0mBaseSession\u001b[0m\u001b[0;34m.\u001b[0m\u001b[0m_Callable\u001b[0m\u001b[0;34m(\u001b[0m\u001b[0mself\u001b[0m\u001b[0;34m,\u001b[0m \u001b[0mcallable_options\u001b[0m\u001b[0;34m)\u001b[0m\u001b[0;34m\u001b[0m\u001b[0;34m\u001b[0m\u001b[0m\n\u001b[0m\u001b[1;32m   1472\u001b[0m \u001b[0;34m\u001b[0m\u001b[0m\n\u001b[1;32m   1473\u001b[0m \u001b[0;34m\u001b[0m\u001b[0m\n",
            "\u001b[0;32m/usr/local/lib/python3.6/dist-packages/tensorflow/python/client/session.py\u001b[0m in \u001b[0;36m__init__\u001b[0;34m(self, session, callable_options)\u001b[0m\n\u001b[1;32m   1423\u001b[0m         \u001b[0;32mwith\u001b[0m \u001b[0merrors\u001b[0m\u001b[0;34m.\u001b[0m\u001b[0mraise_exception_on_not_ok_status\u001b[0m\u001b[0;34m(\u001b[0m\u001b[0;34m)\u001b[0m \u001b[0;32mas\u001b[0m \u001b[0mstatus\u001b[0m\u001b[0;34m:\u001b[0m\u001b[0;34m\u001b[0m\u001b[0;34m\u001b[0m\u001b[0m\n\u001b[1;32m   1424\u001b[0m           self._handle = tf_session.TF_SessionMakeCallable(\n\u001b[0;32m-> 1425\u001b[0;31m               session._session, options_ptr, status)\n\u001b[0m\u001b[1;32m   1426\u001b[0m       \u001b[0;32mfinally\u001b[0m\u001b[0;34m:\u001b[0m\u001b[0;34m\u001b[0m\u001b[0;34m\u001b[0m\u001b[0m\n\u001b[1;32m   1427\u001b[0m         \u001b[0mtf_session\u001b[0m\u001b[0;34m.\u001b[0m\u001b[0mTF_DeleteBuffer\u001b[0m\u001b[0;34m(\u001b[0m\u001b[0moptions_ptr\u001b[0m\u001b[0;34m)\u001b[0m\u001b[0;34m\u001b[0m\u001b[0;34m\u001b[0m\u001b[0m\n",
            "\u001b[0;31mKeyboardInterrupt\u001b[0m: "
          ]
        }
      ]
    },
    {
      "metadata": {
        "id": "jngoO1NooILy",
        "colab_type": "code",
        "outputId": "94c5b100-f46e-4c71-dce5-080bdc2b408a",
        "colab": {
          "base_uri": "https://localhost:8080/",
          "height": 68
        }
      },
      "cell_type": "code",
      "source": [
        "np.random.choice(2, 1, p=(0.6, 0.4))[0]\n",
        "a = np.array([[1, 2], [0, 1], [1,0]])\n",
        "b = np.array([[3], [2], [1]])\n",
        "a*b"
      ],
      "execution_count": 0,
      "outputs": [
        {
          "output_type": "execute_result",
          "data": {
            "text/plain": [
              "array([[3, 6],\n",
              "       [0, 2],\n",
              "       [1, 0]])"
            ]
          },
          "metadata": {
            "tags": []
          },
          "execution_count": 75
        }
      ]
    },
    {
      "metadata": {
        "id": "-xUqy6gmRMnQ",
        "colab_type": "code",
        "colab": {}
      },
      "cell_type": "code",
      "source": [
        "!rm weights.h5"
      ],
      "execution_count": 0,
      "outputs": []
    }
  ]
}