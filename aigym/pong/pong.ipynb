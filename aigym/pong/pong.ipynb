{
  "nbformat": 4,
  "nbformat_minor": 0,
  "metadata": {
    "colab": {
      "name": "pong.ipynb",
      "version": "0.3.2",
      "provenance": [],
      "collapsed_sections": []
    },
    "kernelspec": {
      "name": "python3",
      "display_name": "Python 3"
    },
    "accelerator": "GPU"
  },
  "cells": [
    {
      "metadata": {
        "id": "uASDXzVGNu7V",
        "colab_type": "code",
        "outputId": "85885664-9f38-4e46-d77e-5f0bd6ff676b",
        "colab": {
          "base_uri": "https://localhost:8080/",
          "height": 267
        }
      },
      "cell_type": "code",
      "source": [
        "!pip install -q keras\n",
        "!pip install gym\n",
        "!pip install “gym[atari]\""
      ],
      "execution_count": 21,
      "outputs": [
        {
          "output_type": "stream",
          "text": [
            "Requirement already satisfied: gym in /usr/local/lib/python3.6/dist-packages (0.10.11)\n",
            "Requirement already satisfied: scipy in /usr/local/lib/python3.6/dist-packages (from gym) (1.1.0)\n",
            "Requirement already satisfied: numpy>=1.10.4 in /usr/local/lib/python3.6/dist-packages (from gym) (1.14.6)\n",
            "Requirement already satisfied: requests>=2.0 in /usr/local/lib/python3.6/dist-packages (from gym) (2.18.4)\n",
            "Requirement already satisfied: six in /usr/local/lib/python3.6/dist-packages (from gym) (1.11.0)\n",
            "Requirement already satisfied: pyglet>=1.2.0 in /usr/local/lib/python3.6/dist-packages (from gym) (1.3.2)\n",
            "Requirement already satisfied: idna<2.7,>=2.5 in /usr/local/lib/python3.6/dist-packages (from requests>=2.0->gym) (2.6)\n",
            "Requirement already satisfied: certifi>=2017.4.17 in /usr/local/lib/python3.6/dist-packages (from requests>=2.0->gym) (2018.11.29)\n",
            "Requirement already satisfied: chardet<3.1.0,>=3.0.2 in /usr/local/lib/python3.6/dist-packages (from requests>=2.0->gym) (3.0.4)\n",
            "Requirement already satisfied: urllib3<1.23,>=1.21.1 in /usr/local/lib/python3.6/dist-packages (from requests>=2.0->gym) (1.22)\n",
            "Requirement already satisfied: future in /usr/local/lib/python3.6/dist-packages (from pyglet>=1.2.0->gym) (0.16.0)\n",
            "/bin/bash: -c: line 0: unexpected EOF while looking for matching `\"'\n",
            "/bin/bash: -c: line 1: syntax error: unexpected end of file\n"
          ],
          "name": "stdout"
        }
      ]
    },
    {
      "metadata": {
        "id": "966byywKZ0Br",
        "colab_type": "code",
        "outputId": "fdd12974-029c-4cc0-db7b-790e807de528",
        "colab": {
          "base_uri": "https://localhost:8080/",
          "height": 34
        }
      },
      "cell_type": "code",
      "source": [
        "import tensorflow as tf\n",
        "device_name = tf.test.gpu_device_name()\n",
        "if device_name != '/device:GPU:0':\n",
        "  raise SystemError('GPU device not found')\n",
        "print('Found GPU at: {}'.format(device_name))"
      ],
      "execution_count": 22,
      "outputs": [
        {
          "output_type": "stream",
          "text": [
            "Found GPU at: /device:GPU:0\n"
          ],
          "name": "stdout"
        }
      ]
    },
    {
      "metadata": {
        "id": "LkvaAmVKaWDl",
        "colab_type": "code",
        "outputId": "6c59be28-ff7f-40e0-f518-a5f17bf6ac13",
        "colab": {
          "base_uri": "https://localhost:8080/",
          "height": 51
        }
      },
      "cell_type": "code",
      "source": [
        "from keras import backend as K\n",
        "K.tensorflow_backend._get_available_gpus()"
      ],
      "execution_count": 23,
      "outputs": [
        {
          "output_type": "stream",
          "text": [
            "Using TensorFlow backend.\n"
          ],
          "name": "stderr"
        },
        {
          "output_type": "execute_result",
          "data": {
            "text/plain": [
              "['/job:localhost/replica:0/task:0/device:GPU:0']"
            ]
          },
          "metadata": {
            "tags": []
          },
          "execution_count": 23
        }
      ]
    },
    {
      "metadata": {
        "id": "TaW9fBcvxE0I",
        "colab_type": "code",
        "colab": {}
      },
      "cell_type": "code",
      "source": [
        "import random\n",
        "import numpy as np\n",
        "from keras import backend as K\n",
        "from keras.layers import Dense, Conv2D, Flatten, BatchNormalization, Activation, MaxPooling2D\n",
        "from keras.models import Sequential\n",
        "from keras.optimizers import Adam\n",
        "\n",
        "class Agent:\n",
        "\n",
        "    def __init__(self):\n",
        "        self.memory = []\n",
        "        self.model = self.__model()\n",
        "\n",
        "    def __model(self, lr=0.001):\n",
        "        model = Sequential()\n",
        "        model.add(Conv2D(32, kernel_size=3, strides=3, input_shape=(80, 80, 1), use_bias=False))\n",
        "        model.add(BatchNormalization())\n",
        "        model.add(Activation('relu'))\n",
        "        model.add(MaxPooling2D(pool_size=(2,2)))\n",
        "\n",
        "        model.add(Flatten())\n",
        "        model.add(Dense(256, use_bias=False))\n",
        "        model.add(BatchNormalization())\n",
        "        model.add(Activation('relu'))             #relu -> DEAD NEURONS??? => leaky relu\n",
        "\n",
        "        model.add(Dense(3))\n",
        "        model.add(Activation('softmax'))\n",
        "        model.compile(loss='mean_squared_error', optimizer=Adam(lr=lr), metrics=['accuracy'])\n",
        "\n",
        "        #model.summary()\n",
        "        \n",
        "        return model\n",
        "\n",
        "    def preprocess(self, I):\n",
        "        # prepro 210x160x3 uint8 frame into 6400 (80x80x1) 2D float vector\n",
        "        I = I[35:195]  # crop\n",
        "        I = I[::2, ::2, 0]  # downsample by factor of 2\n",
        "        I[I == 144] = 0  # erase background (background type 1)\n",
        "        I[I == 109] = 0  # erase background (background type 2)\n",
        "        I[I != 0] = 1  # everything else (paddles, ball) just set to 1\n",
        "        I= np.reshape(I, (80, 80, 1))\n",
        "        return I\n",
        "\n",
        "    def discount_rewards(self, r, gamma=0.99):\n",
        "        \"\"\" take 1D float array of rewards and compute discounted reward \"\"\"\n",
        "        discounted_r = np.zeros_like(r)\n",
        "        running_add = 0\n",
        "        for t in reversed(range(0, len(r))):\n",
        "            if r[t] != 0: running_add = 0 # reset the sum\n",
        "            running_add = running_add * gamma + r[t]\n",
        "            discounted_r[t] = running_add\n",
        "        #normalize\n",
        "        discounted_r -= np.mean(discounted_r)\n",
        "        discounted_r /= np.std(discounted_r)\n",
        "        return discounted_r\n",
        "\n",
        "    def remember(self, state, action, actions, reward):\n",
        "        # assure state has correct shape before keep in memory\n",
        "        if (state.shape[0] != 80 or state.shape[1] != 80):\n",
        "          return\n",
        "        \n",
        "        # store in memory the different states, actions, rewards...\n",
        "        self.memory.append((state, action, actions, reward))\n",
        "\n",
        "    def replay(self):\n",
        "        # fit model from memory\n",
        "        gamma = 0.99 # importance of the next reward\n",
        "\n",
        "        # initialize\n",
        "        list_x_batch, list_y_batch = [], []\n",
        "        \n",
        "        # get the list of rewards\n",
        "        _, _, _, list_r_batch = zip(*self.memory)\n",
        "        r_batch = self.discount_rewards(list_r_batch, gamma) #process rewards\n",
        "        \n",
        "        for i, (state, action, actions, _) in enumerate(self.memory):\n",
        "\n",
        "            state = np.expand_dims(state, axis=0)\n",
        "            r = r_batch[i]  #reward of ith step\n",
        "            #print(\"in) a:{} as:{} r:{}\".format(action, actions, r))\n",
        "            #rw = np.full([3], -r/2)\n",
        "            #rw[action] = r\n",
        "            actions[action] += actions[action]*r\n",
        "            #actions += actions*r\n",
        "            #print(\"out) a:{} as:{} r:{}\".format(action, actions, r))\n",
        "\n",
        "            # append\n",
        "            list_x_batch.append(state)\n",
        "            list_y_batch.append(actions)\n",
        "\n",
        "        # train the model\n",
        "        x_batch = np.vstack(list_x_batch)\n",
        "        y_batch = np.vstack(list_y_batch)\n",
        "\n",
        "        # fitting\n",
        "        self.model.fit(x_batch, y_batch, verbose=1, epochs=1)\n",
        "        \n",
        "        # clean\n",
        "        self.memory.clear()\n",
        "\n",
        "    def act(self, state):\n",
        "        # preprocess the sample\n",
        "        #state = self.preprocess(state)\n",
        "        state = np.expand_dims(state, axis=0)\n",
        "\n",
        "        # predict the action to do\n",
        "        action_values = self.model.predict(state)\n",
        "        #print(\"Prediction({}) from {}\".format(np.argmax(action_values), action_values))\n",
        "\n",
        "        return np.argmax(action_values), action_values[0]"
      ],
      "execution_count": 0,
      "outputs": []
    },
    {
      "metadata": {
        "id": "o_JwL9VlSn1K",
        "colab_type": "code",
        "colab": {
          "base_uri": "https://localhost:8080/",
          "height": 119
        },
        "outputId": "fb7521d0-825a-4389-e6e7-12b2bfc882aa"
      },
      "cell_type": "code",
      "source": [
        "## sanity check\n",
        "import unittest\n",
        "import gym\n",
        "import numpy as np\n",
        "\n",
        "class TestAgent(unittest.TestCase):\n",
        "  \n",
        "    @classmethod\n",
        "    def setUpClass(cls):\n",
        "      cls.agent = Agent()\n",
        "    \n",
        "    def test_init(self):\n",
        "      self.assertEqual(len(self.agent.memory), 0)\n",
        "      self.assertTrue(self.agent.model.count_params() < 2e6)\n",
        "\n",
        "    def test_preprocess(self):\n",
        "      env = gym.make(\"Pong-v0\")\n",
        "      observation = env.reset()\n",
        "      processed = self.agent.preprocess(observation)\n",
        "      #data\n",
        "      self.assertEqual(np.min(processed), 0)\n",
        "      self.assertEqual(np.max(processed), 1)\n",
        "      #shape\n",
        "      self.assertEqual(processed.shape[0], 80)\n",
        "      self.assertEqual(processed.shape[1], 80)\n",
        "      self.assertEqual(processed.shape[2], 1)\n",
        "\n",
        "    def test_diff_observations(self):\n",
        "      env = gym.make(\"Pong-v0\")\n",
        "      obs = env.reset()\n",
        "      new_obs, _, _, _ = env.step(2)\n",
        "      obs = self.agent.preprocess(obs)\n",
        "      new_obs = self.agent.preprocess(new_obs)\n",
        "      diff = new_obs - obs    \n",
        "      #data\n",
        "      self.assertEqual(np.unique(diff).tolist(), [0, 1, 255])\n",
        "      \n",
        "        \n",
        "unittest.main(argv=[''], exit=False)"
      ],
      "execution_count": 109,
      "outputs": [
        {
          "output_type": "stream",
          "text": [
            "......\n",
            "----------------------------------------------------------------------\n",
            "Ran 6 tests in 0.812s\n",
            "\n",
            "OK\n"
          ],
          "name": "stderr"
        },
        {
          "output_type": "execute_result",
          "data": {
            "text/plain": [
              "<unittest.main.TestProgram at 0x7f684cdd2358>"
            ]
          },
          "metadata": {
            "tags": []
          },
          "execution_count": 109
        }
      ]
    },
    {
      "metadata": {
        "id": "OK4QrmqsMyl7",
        "colab_type": "code",
        "colab": {
          "base_uri": "https://localhost:8080/",
          "height": 265
        },
        "outputId": "e133a792-bb09-4824-b6d5-16b6f9bb14c5"
      },
      "cell_type": "code",
      "source": [
        "import matplotlib.pyplot as plt\n",
        "from IPython import display\n",
        "%matplotlib inline\n",
        "\n",
        "def draw(x):\n",
        "  plt.plot(x)\n",
        "  display.clear_output(wait=True)\n",
        "  plt.show()\n",
        "  \n",
        "m = [1,2,3,4,5,7]\n",
        "draw(m)"
      ],
      "execution_count": 29,
      "outputs": [
        {
          "output_type": "display_data",
          "data": {
            "image/png": "[encoded data removed]",
            "text/plain": [
              "<Figure size 432x288 with 1 Axes>"
            ]
          },
          "metadata": {
            "tags": []
          }
        }
      ]
    },
    {
      "metadata": {
        "id": "DFceIcedNW21",
        "colab_type": "code",
        "outputId": "f235c1a0-3039-4bb9-ab1b-9bb9f7de391a",
        "colab": {
          "base_uri": "https://localhost:8080/",
          "height": 435
        }
      },
      "cell_type": "code",
      "source": [
        "import os\n",
        "import gym\n",
        "import pickle\n",
        "import random\n",
        "import threading\n",
        "import numpy as np\n",
        "#from Agent import Agent\n",
        "from time import sleep\n",
        "\n",
        "!rm weights.h5\n",
        "!rm data.pkl\n",
        "\n",
        "# code for the two only actions in Pong\n",
        "UP_ACTION = 2\n",
        "DOWN_ACTION = 3\n",
        "NO_ACTION = 0\n",
        "\n",
        "# mapping actions: model output -> environment\n",
        "action2move = {0:NO_ACTION, 1:UP_ACTION, 2:DOWN_ACTION}\n",
        "\n",
        "# initializing our environment\n",
        "env = gym.make(\"Pong-v0\")\n",
        "\n",
        "# beginning of an episode\n",
        "observation = env.reset()\n",
        "previousObs = np.zeros([80,80,1])\n",
        "\n",
        "# model weights\n",
        "h5file = \"weights.h5\"\n",
        "\n",
        "# agent\n",
        "agent = Agent()\n",
        "\n",
        "# try to load previous model\n",
        "if os.path.exists(h5file):\n",
        "    agent.model.load_weights(h5file)\n",
        "\n",
        "# training conf\n",
        "training = True\n",
        "\n",
        "# main loop\n",
        "episode = 1\n",
        "wins = 0\n",
        "win_running_mean = 0\n",
        "wins_list = []\n",
        "\n",
        "while episode < 10000: \n",
        "    \n",
        "    # predict action\n",
        "    observation = agent.preprocess(observation)\n",
        "    diffObs = observation - previousObs\n",
        "    \n",
        "    action, actions = agent.act(diffObs)\n",
        "    move = action2move[action]     \n",
        "\n",
        "    # do one step\n",
        "    next_observation, reward, done, _ = env.step(move)\n",
        "\n",
        "    # save the current observation\n",
        "    agent.remember(diffObs, action, actions, reward)\n",
        "\n",
        "    # update state\n",
        "    previousObs = observation\n",
        "    observation = next_observation\n",
        "\n",
        "    ###\n",
        "    # update variables, means and so on\n",
        "    if reward == 1:\n",
        "        wins += 1\n",
        "                    \n",
        "    if done:\n",
        "        win_running_mean += (wins - win_running_mean)/(len(wins_list)+1)\n",
        "        wins_list.append(win_running_mean)\n",
        "        print(\"******* episode:{} wins:{} perf:{:.3f} ********\".format(episode, wins, win_running_mean))\n",
        "        \n",
        "        if training and (episode % 10 == 0):\n",
        "          #th1 = threading.Thread(target=agent.replay())\n",
        "          #th1.start()\n",
        "          agent.replay()\n",
        "\n",
        "        # storing and printouts\n",
        "        if episode % 100 == 0:\n",
        "          agent.model.save_weights(h5file)\n",
        "          with open('data.pkl', 'wb') as f:\n",
        "            pickle.dump(wins_list, f)\n",
        "            \n",
        "        if episode % 10 == 0:\n",
        "          draw(wins_list)\n",
        "        \n",
        "        # reset episode\n",
        "        observation = env.reset()\n",
        "        previousObs = np.zeros([80,80,1])\n",
        "        wins = 0\n",
        "        episode += 1\n",
        "\n"
      ],
      "execution_count": 0,
      "outputs": [
        {
          "output_type": "display_data",
          "data": {
            "image/png": "[encoded data removed]",
            "text/plain": [
              "<Figure size 432x288 with 1 Axes>"
            ]
          },
          "metadata": {
            "tags": []
          }
        },
        {
          "output_type": "stream",
          "text": [
            "******* episode:111 wins:10 perf:1.468 ********\n",
            "******* episode:112 wins:4 perf:1.491 ********\n",
            "******* episode:113 wins:4 perf:1.513 ********\n",
            "******* episode:114 wins:7 perf:1.561 ********\n",
            "******* episode:115 wins:7 perf:1.609 ********\n",
            "******* episode:116 wins:7 perf:1.655 ********\n",
            "******* episode:117 wins:2 perf:1.658 ********\n",
            "******* episode:118 wins:3 perf:1.669 ********\n",
            "******* episode:119 wins:7 perf:1.714 ********\n",
            "******* episode:120 wins:3 perf:1.725 ********\n"
          ],
          "name": "stdout"
        }
      ]
    }
  ]
}