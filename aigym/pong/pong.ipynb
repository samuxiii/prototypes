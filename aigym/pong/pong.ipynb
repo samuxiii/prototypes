{
  "nbformat": 4,
  "nbformat_minor": 0,
  "metadata": {
    "colab": {
      "name": "pong.ipynb",
      "version": "0.3.2",
      "provenance": [],
      "collapsed_sections": []
    },
    "kernelspec": {
      "name": "python3",
      "display_name": "Python 3"
    },
    "accelerator": "GPU"
  },
  "cells": [
    {
      "metadata": {
        "id": "uASDXzVGNu7V",
        "colab_type": "code",
        "outputId": "a3d1452e-adbf-4b84-a25b-41eedb9adbaa",
        "colab": {
          "base_uri": "https://localhost:8080/",
          "height": 287
        }
      },
      "cell_type": "code",
      "source": [
        "!pip install -q keras\n",
        "!pip install gym\n",
        "!pip install “gym[atari]\""
      ],
      "execution_count": 1,
      "outputs": [
        {
          "output_type": "stream",
          "text": [
            "Requirement already satisfied: gym in /usr/local/lib/python3.6/dist-packages (0.10.11)\n",
            "Requirement already satisfied: scipy in /usr/local/lib/python3.6/dist-packages (from gym) (1.1.0)\n",
            "Requirement already satisfied: numpy>=1.10.4 in /usr/local/lib/python3.6/dist-packages (from gym) (1.14.6)\n",
            "Requirement already satisfied: requests>=2.0 in /usr/local/lib/python3.6/dist-packages (from gym) (2.18.4)\n",
            "Requirement already satisfied: six in /usr/local/lib/python3.6/dist-packages (from gym) (1.11.0)\n",
            "Requirement already satisfied: pyglet>=1.2.0 in /usr/local/lib/python3.6/dist-packages (from gym) (1.3.2)\n",
            "Requirement already satisfied: idna<2.7,>=2.5 in /usr/local/lib/python3.6/dist-packages (from requests>=2.0->gym) (2.6)\n",
            "Requirement already satisfied: certifi>=2017.4.17 in /usr/local/lib/python3.6/dist-packages (from requests>=2.0->gym) (2018.11.29)\n",
            "Requirement already satisfied: urllib3<1.23,>=1.21.1 in /usr/local/lib/python3.6/dist-packages (from requests>=2.0->gym) (1.22)\n",
            "Requirement already satisfied: chardet<3.1.0,>=3.0.2 in /usr/local/lib/python3.6/dist-packages (from requests>=2.0->gym) (3.0.4)\n",
            "Requirement already satisfied: future in /usr/local/lib/python3.6/dist-packages (from pyglet>=1.2.0->gym) (0.16.0)\n",
            "/bin/bash: -c: line 0: unexpected EOF while looking for matching `\"'\n",
            "/bin/bash: -c: line 1: syntax error: unexpected end of file\n"
          ],
          "name": "stdout"
        }
      ]
    },
    {
      "metadata": {
        "id": "966byywKZ0Br",
        "colab_type": "code",
        "outputId": "5ff42695-4162-40a5-94f2-40105ace826f",
        "colab": {
          "base_uri": "https://localhost:8080/",
          "height": 34
        }
      },
      "cell_type": "code",
      "source": [
        "import tensorflow as tf\n",
        "device_name = tf.test.gpu_device_name()\n",
        "if device_name != '/device:GPU:0':\n",
        "  raise SystemError('GPU device not found')\n",
        "print('Found GPU at: {}'.format(device_name))"
      ],
      "execution_count": 2,
      "outputs": [
        {
          "output_type": "stream",
          "text": [
            "Found GPU at: /device:GPU:0\n"
          ],
          "name": "stdout"
        }
      ]
    },
    {
      "metadata": {
        "id": "LkvaAmVKaWDl",
        "colab_type": "code",
        "outputId": "b62b6c35-9a65-4cb9-dac9-7c86b4f357da",
        "colab": {
          "base_uri": "https://localhost:8080/",
          "height": 51
        }
      },
      "cell_type": "code",
      "source": [
        "from keras import backend as K\n",
        "K.tensorflow_backend._get_available_gpus()"
      ],
      "execution_count": 3,
      "outputs": [
        {
          "output_type": "stream",
          "text": [
            "Using TensorFlow backend.\n"
          ],
          "name": "stderr"
        },
        {
          "output_type": "execute_result",
          "data": {
            "text/plain": [
              "['/job:localhost/replica:0/task:0/device:GPU:0']"
            ]
          },
          "metadata": {
            "tags": []
          },
          "execution_count": 3
        }
      ]
    },
    {
      "metadata": {
        "id": "TaW9fBcvxE0I",
        "colab_type": "code",
        "colab": {}
      },
      "cell_type": "code",
      "source": [
        "import random\n",
        "import numpy as np\n",
        "from keras import backend as K\n",
        "from keras.layers import Dense, Conv2D, Flatten, BatchNormalization\n",
        "from keras.models import Sequential\n",
        "from keras.optimizers import Adam\n",
        "\n",
        "class Agent:\n",
        "\n",
        "    def __init__(self):\n",
        "        self.memory = []\n",
        "        self.epsilon = 1.0  # exploration rate\n",
        "        self.model = self.__model()\n",
        "\n",
        "    def __model(self):\n",
        "        model = Sequential()\n",
        "        model.add(Conv2D(16, kernel_size=8, strides=4, activation='relu', input_shape=(80, 80, 1)))\n",
        "        model.add(BatchNormalization())\n",
        "        model.add(Conv2D(32, kernel_size=4, strides=2, activation='relu'))\n",
        "        model.add(BatchNormalization())\n",
        "        model.add(Flatten())\n",
        "        model.add(Dense(128, activation='relu'))\n",
        "        model.add(BatchNormalization())\n",
        "        model.add(Dense(3, activation='softmax'))\n",
        "        model.compile(loss='mean_squared_error', optimizer='adam', metrics=['accuracy'])\n",
        "        return model\n",
        "\n",
        "    def preprocess(self, I):\n",
        "        # prepro 210x160x3 uint8 frame into 6400 (80x80) 1D float vector\n",
        "        I = I[35:195]  # crop\n",
        "        I = I[::2, ::2, 0]  # downsample by factor of 2\n",
        "        I[I == 144] = 0  # erase background (background type 1)\n",
        "        I[I == 109] = 0  # erase background (background type 2)\n",
        "        I[I != 0] = 1  # everything else (paddles, ball) just set to 1\n",
        "        I = np.reshape(I, (80, 80, 1))\n",
        "        return I  # shape:(80, 80, 1)\n",
        "\n",
        "    def discount_rewards(self, r, gamma=0.99):\n",
        "        \"\"\" take 1D float array of rewards and compute discounted reward \"\"\"\n",
        "        discounted_r = np.zeros_like(r)\n",
        "        running_add = 0\n",
        "        for t in reversed(range(0, len(r))):\n",
        "            if r[t] != 0: running_add = 0 # reset the sum, since this was a game boundary (pong specific!)\n",
        "            running_add = running_add * gamma + r[t]\n",
        "            discounted_r[t] = running_add\n",
        "        #normalize\n",
        "        discounted_r -= np.mean(discounted_r)\n",
        "        discounted_r /= np.std(discounted_r)\n",
        "        return discounted_r\n",
        "\n",
        "    def remember(self, state, action, reward, done):\n",
        "        # states must be preprocessed\n",
        "        if (state.shape[0] != 80 and state.shape[1] != 80):\n",
        "            state = self.preprocess(state)\n",
        "\n",
        "        # store in memory the different states, actions, rewards...\n",
        "        self.memory.append((state, action, reward, done))\n",
        "\n",
        "    def replay(self):\n",
        "        # fit model from memory\n",
        "        gamma = 0.999  # importance of the next reward\n",
        "\n",
        "        # initialize\n",
        "        list_x_batch, list_y_batch = [], []\n",
        "        \n",
        "        # get the list of rewards\n",
        "        _, _, list_r_batch, _ = zip(*self.memory)\n",
        "        r_batch = self.discount_rewards(list_r_batch, gamma)\n",
        "        \n",
        "        #print(\"steps:{}\".format(len(self.memory)))\n",
        "        for i, (state, action, _, _) in enumerate(self.memory):\n",
        "\n",
        "            state = np.expand_dims(state, axis=0)\n",
        "            target = np.zeros([3])  #0's for up and down => [0, 0]\n",
        "            #target[action] = 1 #performed action is set to 1\n",
        "            r = r_batch[i]\n",
        "            #if abs(r) <= 0.25:\n",
        "            #  target[action] = r_batch[i]\n",
        "            if r > 0:\n",
        "              target[action] = 1\n",
        "            else:\n",
        "              a = 1 if action==2 else 2\n",
        "              target[a] = 1\n",
        "            \n",
        "            #target[action] = r_batch[i]\n",
        "            #print(\"reward {} for action {}, so target:{}\".format(r, action, target))\n",
        "\n",
        "            # append\n",
        "            list_x_batch.append(state)\n",
        "            list_y_batch.append(target)\n",
        "                \n",
        "        # clean\n",
        "        self.memory = []\n",
        "\n",
        "        # train the model\n",
        "        x_batch = np.vstack(list_x_batch)\n",
        "        y_batch = np.vstack(list_y_batch)\n",
        "\n",
        "        # fitting\n",
        "        #self.model.fit(x_batch, y_batch, sample_weight=r_batch, verbose=0)\n",
        "        self.model.fit(x_batch, y_batch, verbose=0)\n",
        "\n",
        "    def act(self, state):\n",
        "        if self.epsilon > np.random.rand():\n",
        "            return random.randint(0, 2)\n",
        "\n",
        "        # preprocess the sample\n",
        "        state = self.preprocess(state)\n",
        "        state = np.expand_dims(state, axis=0)\n",
        "\n",
        "        # predict the action to do\n",
        "        action_values = self.model.predict(state)\n",
        "        #print(\"Predictions:{}\".format(action_values))\n",
        "\n",
        "        return np.argmax(action_values)"
      ],
      "execution_count": 0,
      "outputs": []
    },
    {
      "metadata": {
        "id": "DFceIcedNW21",
        "colab_type": "code",
        "colab": {}
      },
      "cell_type": "code",
      "source": [
        "import os\n",
        "import gym\n",
        "import random\n",
        "import numpy as np\n",
        "#from Agent import Agent\n",
        "from time import sleep\n",
        "\n",
        "!rm weights.h5\n",
        "\n",
        "# code for the two only actions in Pong\n",
        "UP_ACTION = 2\n",
        "DOWN_ACTION = 3\n",
        "NO_ACTION = 0\n",
        "\n",
        "# mapping actions: model output -> environment\n",
        "action2move = {0:NO_ACTION, 1:UP_ACTION, 2:DOWN_ACTION}\n",
        "\n",
        "# initializing our environment\n",
        "env = gym.make(\"Pong-v0\")\n",
        "\n",
        "# beginning of an episode\n",
        "observation = env.reset()\n",
        "previousObs = np.zeros_like(observation)\n",
        "\n",
        "# model weights\n",
        "h5file = \"weights.h5\"\n",
        "\n",
        "# agent\n",
        "agent = Agent()\n",
        "\n",
        "# try to load previous model\n",
        "if os.path.exists(h5file):\n",
        "    agent.model.load_weights(h5file)\n",
        "\n",
        "# training conf\n",
        "training = True\n",
        "\n",
        "# main loop\n",
        "episode = 0\n",
        "wins=0\n",
        "\n",
        "while episode < 10000: \n",
        "    # predict action\n",
        "    diffObs = observation - previousObs\n",
        "    \n",
        "    action = agent.act(diffObs)\n",
        "    move = action2move[action]     \n",
        "\n",
        "    # do one step\n",
        "    next_observation, reward, done, _ = env.step(move)\n",
        "\n",
        "    # save the current observation\n",
        "    agent.remember(diffObs, action, reward, done)\n",
        "\n",
        "    # update state\n",
        "    previousObs = observation\n",
        "    observation = next_observation\n",
        "\n",
        "    \n",
        "    if reward != 0:\n",
        "        if reward == 1:\n",
        "            wins += 1\n",
        "\n",
        "        if training:\n",
        "            agent.replay()\n",
        "            agent.model.save_weights(h5file)\n",
        "    \n",
        "    if done:\n",
        "        print(\"******* episode:{} wins:{} (epsilon:{}) ********\".format(episode, wins, agent.epsilon))\n",
        "\n",
        "        # decrease exploration rate\n",
        "        if agent.epsilon > 0.05:\n",
        "            agent.epsilon *= 0.97\n",
        "        \n",
        "        observation = env.reset()\n",
        "        episode += 1\n",
        "        wins = 0\n"
      ],
      "execution_count": 0,
      "outputs": []
    }
  ]
}